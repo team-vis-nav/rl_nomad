{
 "cells": [
  {
   "cell_type": "code",
   "execution_count": null,
   "id": "47c37d12",
   "metadata": {},
   "outputs": [],
   "source": []
  },
  {
   "cell_type": "code",
   "execution_count": null,
   "id": "ec96e36c",
   "metadata": {},
   "outputs": [
    {
     "ename": "TypeError",
     "evalue": "__init__() missing 3 required positional arguments: 'vision_encoder', 'noise_pred_net', and 'dist_pred_net'",
     "output_type": "error",
     "traceback": [
      "\u001b[0;31m---------------------------------------------------------------------------\u001b[0m",
      "\u001b[0;31mTypeError\u001b[0m                                 Traceback (most recent call last)",
      "Cell \u001b[0;32mIn[1], line 16\u001b[0m\n\u001b[1;32m      6\u001b[0m controller \u001b[38;5;241m=\u001b[39m ai2thor\u001b[38;5;241m.\u001b[39mcontroller\u001b[38;5;241m.\u001b[39mController(\n\u001b[1;32m      7\u001b[0m     agentMode\u001b[38;5;241m=\u001b[39m\u001b[38;5;124m\"\u001b[39m\u001b[38;5;124mdefault\u001b[39m\u001b[38;5;124m\"\u001b[39m,\n\u001b[1;32m      8\u001b[0m     visibilityDistance\u001b[38;5;241m=\u001b[39m\u001b[38;5;241m1.5\u001b[39m,\n\u001b[0;32m   (...)\u001b[0m\n\u001b[1;32m     12\u001b[0m     fieldOfView\u001b[38;5;241m=\u001b[39m\u001b[38;5;241m90\u001b[39m\n\u001b[1;32m     13\u001b[0m )\n\u001b[1;32m     15\u001b[0m \u001b[38;5;66;03m# Load NoMaD model\u001b[39;00m\n\u001b[0;32m---> 16\u001b[0m model \u001b[38;5;241m=\u001b[39m \u001b[43mNoMaD\u001b[49m\u001b[43m(\u001b[49m\u001b[43m)\u001b[49m  \u001b[38;5;66;03m# Adjust based on actual model initialization\u001b[39;00m\n\u001b[1;32m     17\u001b[0m checkpoint \u001b[38;5;241m=\u001b[39m torch\u001b[38;5;241m.\u001b[39mload(\u001b[38;5;124m\"\u001b[39m\u001b[38;5;124m/home/tuandang/tuandang/quanganh/visualnav-transformer/nomad.pth\u001b[39m\u001b[38;5;124m\"\u001b[39m)\n\u001b[1;32m     18\u001b[0m model\u001b[38;5;241m.\u001b[39mload_state_dict(checkpoint[\u001b[38;5;124m\"\u001b[39m\u001b[38;5;124mmodel_state_dict\u001b[39m\u001b[38;5;124m\"\u001b[39m])\n",
      "\u001b[0;31mTypeError\u001b[0m: __init__() missing 3 required positional arguments: 'vision_encoder', 'noise_pred_net', and 'dist_pred_net'"
     ]
    }
   ],
   "source": [
    "import torch\n",
    "import ai2thor.controller\n",
    "from train.vint_train.models.nomad.nomad import NoMaD\n",
    "import numpy as np\n",
    "\n",
    "controller = ai2thor.controller.Controller(\n",
    "    agentMode=\"default\",\n",
    "    visibilityDistance=1.5,\n",
    "    gridSize=0.25,\n",
    "    width=224,\n",
    "    height=224,\n",
    "    fieldOfView=90\n",
    ")\n",
    "\n",
    "# Load NoMaD model\n",
    "model = NoMaD()  # Adjust based on actual model initialization\n",
    "checkpoint = torch.load(\"/home/tuandang/tuandang/quanganh/visualnav-transformer/nomad.pth\")\n",
    "model.load_state_dict(checkpoint[\"model_state_dict\"])\n",
    "model.eval()\n",
    "device = torch.device(\"cuda\" if torch.cuda.is_available() else \"cpu\")\n",
    "model.to(device)\n",
    "\n",
    "# Evaluation loop over FloorPlans 1–430\n",
    "results = {}\n",
    "for fp in range(1, 431):\n",
    "    scene = f\"FloorPlan{fp}\"\n",
    "    controller.reset(scene=scene)\n",
    "\n",
    "    # Define navigation task (e.g., random goal position)\n",
    "    goal = np.random.uniform(low=[-5, 0, -5], high=[5, 0, 5])  # Example goal\n",
    "    success = False\n",
    "    max_steps = 200\n",
    "    step_count = 0\n",
    "\n",
    "    while step_count < max_steps:\n",
    "        # Get current observation (RGB image)\n",
    "        event = controller.step(action=\"Pass\")  # Update state\n",
    "        rgb = event.frame  # Shape: (224, 224, 3)\n",
    "\n",
    "        # Preprocess image and goal for NoMaD\n",
    "        obs = preprocess_image(rgb)  # Implement preprocessing (e.g., normalize, to tensor)\n",
    "        goal_input = preprocess_goal(goal)  # Adjust based on NoMaD’s goal format\n",
    "\n",
    "        # Run model inference\n",
    "        with torch.no_grad():\n",
    "            action = model(obs.to(device), goal_input.to(device))\n",
    "        action = action.cpu().numpy()\n",
    "\n",
    "        # Execute action in AI2-THOR\n",
    "        controller.step(\n",
    "            action=\"MoveAhead\" if action[0] > 0.5 else \"RotateRight\",\n",
    "            moveMagnitude=0.25,\n",
    "            degrees=30\n",
    "        )\n",
    "\n",
    "        # Check if goal is reached (e.g., within 0.5m)\n",
    "        agent_pos = controller.last_event.metadata[\"agent\"][\"position\"]\n",
    "        dist_to_goal = np.linalg.norm(np.array([agent_pos[\"x\"], agent_pos[\"z\"]]) - goal[:2])\n",
    "        if dist_to_goal < 0.5:\n",
    "            success = True\n",
    "            break\n",
    "        step_count += 1\n",
    "\n",
    "    results[scene] = {\"success\": success, \"steps\": step_count}\n",
    "    print(f\"{scene}: Success={success}, Steps={step_count}\")\n",
    "\n",
    "# Summarize results\n",
    "success_rate = sum(r[\"success\"] for r in results.values()) / len(results)\n",
    "avg_steps = sum(r[\"steps\"] for r in results.values() if r[\"success\"]) / sum(r[\"success\"] for r in results.values())\n",
    "print(f\"Success Rate: {success_rate:.2f}, Avg Steps (Success): {avg_steps:.2f}\")"
   ]
  }
 ],
 "metadata": {
  "kernelspec": {
   "display_name": "nomad_train",
   "language": "python",
   "name": "python3"
  },
  "language_info": {
   "codemirror_mode": {
    "name": "ipython",
    "version": 3
   },
   "file_extension": ".py",
   "mimetype": "text/x-python",
   "name": "python",
   "nbconvert_exporter": "python",
   "pygments_lexer": "ipython3",
   "version": "3.8.5"
  }
 },
 "nbformat": 4,
 "nbformat_minor": 5
}
